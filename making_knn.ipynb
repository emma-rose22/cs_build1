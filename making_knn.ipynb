{
 "cells": [
  {
   "cell_type": "code",
   "execution_count": 171,
   "metadata": {},
   "outputs": [],
   "source": [
    "import numpy as np\n",
    "from scipy import stats\n",
    "import pandas as pd"
   ]
  },
  {
   "cell_type": "markdown",
   "metadata": {},
   "source": [
    "# The Plan\n",
    "\n",
    "Making a basic KNN algorithm has three main steps:\n",
    "\n",
    "1. Measure the distance between points\n",
    "    - this is generally Euchlidean Distance\n",
    "    \n",
    "2. Sort the data based off the distance from x point\n",
    "    - once the sorting happens, we can simply take the top neighbors\n",
    "    - depending on the amount of neighbors the user wants\n",
    "    \n",
    "3. Return the number of neighbors the user wants and the prediction for it's class/numerical value (if regression)"
   ]
  },
  {
   "cell_type": "code",
   "execution_count": 175,
   "metadata": {},
   "outputs": [],
   "source": [
    "#first make a function that measures Euchlidean Distance \n",
    "\n",
    "def e_distance(original_arr, test_arr):\n",
    "    #start by having distance variable at 0\n",
    "    d = 0\n",
    "    \n",
    "    #go through each item in the array\n",
    "    #assuming the last item is actually classification label and is skipped\n",
    "    \n",
    "    for row in range(len(original_arr) - 1):\n",
    "        #this is the execution of the euchlidian formula\n",
    "        \n",
    "        # the difference between two rows squared\n",
    "        # added to the total distance of rows\n",
    "        # then the square root is taken of total distance\n",
    "        \n",
    "        # and returned as the distance between arrays\n",
    "        d += (original_arr[row] - test_arr[row]) ** 2\n",
    "        \n",
    "        distance = np.sqrt(d)\n",
    "        \n",
    "    return distance"
   ]
  },
  {
   "cell_type": "code",
   "execution_count": 176,
   "metadata": {},
   "outputs": [
    {
     "name": "stdout",
     "output_type": "stream",
     "text": [
      "Distance between two identical arrays: 0.0\n",
      "Distance between two similar arrays: 7.0710678118654755\n"
     ]
    }
   ],
   "source": [
    "#test \n",
    "\n",
    "arr1 = [15, 25, 35, 45, 55]\n",
    "arr2 = [15, 25, 35, 45, 55]\n",
    "\n",
    "print('Distance between two identical arrays:', e_distance(arr1, arr2))\n",
    "\n",
    "arr3 = [15, 25, 35, 45, 55]\n",
    "arr4 = [15, 25, 30, 50, 55]\n",
    "\n",
    "print('Distance between two similar arrays:', e_distance(arr3, arr4))"
   ]
  },
  {
   "cell_type": "code",
   "execution_count": 182,
   "metadata": {},
   "outputs": [],
   "source": [
    "#sort the e_distance between arrays \n",
    "\n",
    "#essentially I will be iterating over each row in the array\n",
    "def knearest_neighbors_classification(original_array, test_array, k):\n",
    "    all_distances = []\n",
    "    for row in original_array:\n",
    "        #measuring it's distance from my test point\n",
    "        d = e_distance(row, test_array)\n",
    "        #store them all in a list\n",
    "        all_distances.append([d, row])\n",
    "\n",
    "    #sort the list, smallest to largest\n",
    "    all_distances.sort()\n",
    "    \n",
    "    #then return the number of nearest neighbors the user wants \n",
    "    count = 0\n",
    "    for i in all_distances[:k]:\n",
    "        count += 1\n",
    "        print(f'This is the {count} closest variable:', i)\n",
    "        \n",
    "    #I also would like to return a prediction for the class of the test array\n",
    "    nearest_classes = []\n",
    "    for i in all_distances[:k]:\n",
    "        nearest_classes.append(i[-1][-1])\n",
    "    \n",
    "    prediction = stats.mode(nearest_classes)\n",
    "    return f'Prediction is that this is in the {prediction[0]} class.'"
   ]
  },
  {
   "cell_type": "code",
   "execution_count": 193,
   "metadata": {},
   "outputs": [
    {
     "name": "stdout",
     "output_type": "stream",
     "text": [
      "This is the 1 closest variable: [3.0, [12, 23, 0]]\n",
      "This is the 2 closest variable: [7.280109889280518, [14, 27, 0]]\n"
     ]
    },
    {
     "data": {
      "text/plain": [
       "'Prediction is that this is in the [0] class.'"
      ]
     },
     "execution_count": 193,
     "metadata": {},
     "output_type": "execute_result"
    }
   ],
   "source": [
    "cat_data = [[12, 23, 0],\n",
    "             [4.4, 11, 1],\n",
    "             [5.2, 12, 1],\n",
    "             [11, 30, 0],\n",
    "             [4.7, 8, 1],\n",
    "             [14, 27, 0],\n",
    "             [3.9, 9, 1], \n",
    "             [9, 27, 0],\n",
    "             [10, 28, 0],\n",
    "             [3.7, 10, 1]]\n",
    "\n",
    "your_cat = [12, 20, 0]\n",
    "\n",
    "knearest_neighbors_classification(cat_data, your_cat, 2)"
   ]
  },
  {
   "cell_type": "code",
   "execution_count": 194,
   "metadata": {},
   "outputs": [],
   "source": [
    "regression_dummy_data = [[22, 23, 56],\n",
    "             [10, 11, 134],\n",
    "             [11, 15, 166],\n",
    "             [29, 30, 87],\n",
    "             [9, 13, 123],\n",
    "             [25, 27, 55],\n",
    "             [10, 12, 111], \n",
    "             [25, 27, 98],\n",
    "             [24, 28, 75],\n",
    "             [14, 16, 147]]"
   ]
  },
  {
   "cell_type": "code",
   "execution_count": 195,
   "metadata": {},
   "outputs": [],
   "source": [
    "#sort the e_distance between arrays \n",
    "\n",
    "#essentially I will be iterating over each row in the array\n",
    "def knearest_neighbors_regression(original_array, test_array, k):\n",
    "    all_distances = []\n",
    "    for row in original_array:\n",
    "        #measuring it's distance from my test point\n",
    "        d = e_distance(row, test_array)\n",
    "        #store them all in a list\n",
    "        all_distances.append([d, row])\n",
    "\n",
    "    #sort the list, smallest to largest\n",
    "    all_distances.sort()\n",
    "    \n",
    "    #then return the number of nearest neighbors the user wants \n",
    "    count = 0\n",
    "    for i in all_distances[:k]:\n",
    "        count += 1\n",
    "        print(f'This is the {count} closest variable:', i)\n",
    "    #I also would like to return a prediction for the class of the test array\n",
    "    nearest_values = []\n",
    "    for i in all_distances[:k]:\n",
    "        nearest_values.append(i[-1][-1])\n",
    "    \n",
    "    prediction = np.mean(nearest_values)\n",
    "    return f'Given the input value, the prediction is {prediction}.'"
   ]
  },
  {
   "cell_type": "code",
   "execution_count": 196,
   "metadata": {},
   "outputs": [
    {
     "name": "stdout",
     "output_type": "stream",
     "text": [
      "This is the 1 closest variable: [2.23606797749979, [10, 12, 111]]\n",
      "This is the 2 closest variable: [2.23606797749979, [11, 15, 166]]\n",
      "Given the input value, the prediction is 138.5.\n"
     ]
    }
   ],
   "source": [
    "test_arr = [12, 13]\n",
    "\n",
    "print(knearest_neighbors_regression(regression_dummy_data, test_arr, 2))"
   ]
  }
 ],
 "metadata": {
  "kernelspec": {
   "display_name": "Python 3",
   "language": "python",
   "name": "python3"
  },
  "language_info": {
   "codemirror_mode": {
    "name": "ipython",
    "version": 3
   },
   "file_extension": ".py",
   "mimetype": "text/x-python",
   "name": "python",
   "nbconvert_exporter": "python",
   "pygments_lexer": "ipython3",
   "version": "3.7.6"
  }
 },
 "nbformat": 4,
 "nbformat_minor": 4
}
